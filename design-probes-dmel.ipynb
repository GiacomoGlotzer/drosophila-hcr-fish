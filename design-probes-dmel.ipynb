{
 "cells": [
  {
   "cell_type": "markdown",
   "metadata": {},
   "source": [
    "Designs probes against a single gene. Uses the mature mRNA sequence (no introns). Blasts against transcriptome with and without introns to verify specificity. \n",
    "Author: Giacomo Glotzer. Updated: November 9, 2024. "
   ]
  },
  {
   "cell_type": "code",
   "execution_count": null,
   "metadata": {},
   "outputs": [
    {
     "name": "stdout",
     "output_type": "stream",
     "text": [
      "Initializing transcriptomics package\n",
      "Initializing HCR package\n",
      "Initializing plotting package\n"
     ]
    }
   ],
   "source": [
    "from pygenomeviz import GenomeViz\n",
    "import Bio.SeqIO as SeqIO\n",
    "import pandas as pd\n",
    "import matplotlib.pyplot as plt\n",
    "import numpy as np\n",
    "import re\n",
    "import os\n",
    "import subprocess\n",
    "from transcriptomics import * \n",
    "from hcr import *\n",
    "from plotting import * "
   ]
  },
  {
   "cell_type": "code",
   "execution_count": 2,
   "metadata": {},
   "outputs": [],
   "source": [
    "# Specify blast databases\n",
    "transcriptome_no_introns_db = \"raw_data/dmel/transcriptome/mRNA_no_introns/mRNA_no_introns\" # Includes all exons (incl. UTRs) but no introns \n",
    "transcriptome_yes_introns_db = \"raw_data/dmel/transcriptome/mRNA_yes_introns/mRNA_yes_introns\" # Includes introns and exons  "
   ]
  },
  {
   "cell_type": "code",
   "execution_count": 3,
   "metadata": {},
   "outputs": [],
   "source": [
    "# Load genome\n",
    "genome_fasta_path = \"raw_data/dmel/genome/dm6.fa\"\n",
    "genome_seq = SeqIO.to_dict(SeqIO.parse(genome_fasta_path, \"fasta\"))"
   ]
  },
  {
   "cell_type": "code",
   "execution_count": 17,
   "metadata": {},
   "outputs": [],
   "source": [
    "# set main directory for writing files \n",
    "main_directory = 'output/dmel/'\n",
    "\n",
    "# create main directory if it does not exist\n",
    "if not os.path.exists(main_directory):\n",
    "    os.makedirs(main_directory)"
   ]
  },
  {
   "cell_type": "code",
   "execution_count": 5,
   "metadata": {},
   "outputs": [],
   "source": [
    "# Load transcriptome \n",
    "tr = load_transcriptome_object(\"mel_transcriptome\") "
   ]
  },
  {
   "cell_type": "code",
   "execution_count": 57,
   "metadata": {},
   "outputs": [],
   "source": [
    "# Specify Gene \n",
    "gene_name = \"Or9a\""
   ]
  },
  {
   "cell_type": "code",
   "execution_count": 58,
   "metadata": {},
   "outputs": [
    {
     "data": {
      "text/plain": [
       "Gene(name=Or9a, id=Or9a, transcripts=1, chromosome=chrX, strand=-)"
      ]
     },
     "execution_count": 58,
     "metadata": {},
     "output_type": "execute_result"
    }
   ],
   "source": [
    "# Get gene \n",
    "gene = tr.get_gene(gene_name)\n",
    "gene"
   ]
  },
  {
   "cell_type": "code",
   "execution_count": 59,
   "metadata": {},
   "outputs": [
    {
     "data": {
      "text/plain": [
       "Transcript(name=NM_078552.3, 1176bp CDS, chrX:10458186-10459676, exons=4, introns=3, utrs=0)"
      ]
     },
     "execution_count": 59,
     "metadata": {},
     "output_type": "execute_result"
    }
   ],
   "source": [
    "# Get transcript \n",
    "transcript = gene.get_transcript_longest_bounds()\n",
    "transcript "
   ]
  },
  {
   "cell_type": "code",
   "execution_count": 60,
   "metadata": {},
   "outputs": [
    {
     "data": {
      "text/plain": [
       "'chrX'"
      ]
     },
     "execution_count": 60,
     "metadata": {},
     "output_type": "execute_result"
    }
   ],
   "source": [
    "# Get chromosome \n",
    "chromosome = gene.chromosome\n",
    "chromosome"
   ]
  },
  {
   "cell_type": "code",
   "execution_count": 61,
   "metadata": {},
   "outputs": [],
   "source": [
    "# Permitted off-targets (optionally specify a list of off-targets that are allowed)\n",
    "permitted_off_targets = []"
   ]
  },
  {
   "cell_type": "code",
   "execution_count": 62,
   "metadata": {},
   "outputs": [
    {
     "name": "stdout",
     "output_type": "stream",
     "text": [
      "Sequence length: 1179\n"
     ]
    },
    {
     "data": {
      "text/plain": [
       "'ATGAGCGACAAGGTGAAGGGAAAAAAGCAGGAGGAAAAGGATCAATCCTTGCGGGTGCAAATTCTCGTTTATCGCTGCATGGGCATCGATTTGTGGAGCCCCACGATGGCGAATGACCGCCCGTGGCTGACCTTTGTCACAATGGGACCACTTTTCCTGTTTATGGTGCCCATGTTCCTGGCCGCCCACGAGTACATCACCCAGGTGAGCCTGCTCTCCGACACCCTGGGCTCCACCTTCGCCAGCATGCTCACCCTGGTCAAATTCCTGCTCTTCTGCTATCATCGCAAGGAGTTCGTCGGCCTGATCTACCACATCAGGGCCATTCTGGCTAAAGAAATCGAAGTGTGGCCTGATGCGCGGGAAATCATCGAGGTGGAGAACCAAAGTGACCAAATGCTCAGTCTTACGTACACTCGCTGTTTTGGACTGGCTGGAATCTTTGCGGCCCTGAAGCCCTTTGTGGGCATCATACTCTCCTCGATTCGCGGCGACGAGATTCACCTGGAGCTGCCCCACAACGGCGTTTACCCGTACGATCTCCAGGTGGTCATGTTTTATGTGCCCACCTATCTGTGGAATGTGATGGCCAGCTATAGTGCTGTAACCATGGCACTCTGCGTGGACTCGCTGCTCTTCTTTTTCACCTACAACGTGTGCGCCATTTTCAAGATCGCCAAGCACCGGATGATCCATCTGCCGGCGGTGGGCGGAAAGGAGGAGCTGGAGGGGCTCGTCCAGGTGCTGCTGCTGCACCAGAAGGGCCTCCAGATCGCCGATCACATTGCGGACAAGTACCGGCCGCTGATCTTTTTGCAGTTCTTTCTGTCCGCCTTGCAGATCTGCTTCATTGGATTCCAGGTGGCTGATCTGTTTCCCAATCCGCAGAGTCTCTACTTTATCGCCTTTGTGGGCTCGCTGCTCATCGCACTGTTCATCTACTCGAAGTGCGGCGAAAATATCAAGAGTGCCAGCCTGGATTTCGGAAACGGGCTGTACGAGACCAACTGGACCGACTTCTCGCCACCCACTAAAAGAGCCCTCCTCATTGCCGCCATGCGCGCCCAGCGACCTTGCCAGATGAAGGGCTACTTTTTCGAGGCCAGCATGGCCACCTTCTCGACGATTGTTCGCTCTGCCGTGTCGTACATCATGATGTTGCGCTCCTTTAATGCCTAA'"
      ]
     },
     "execution_count": 62,
     "metadata": {},
     "output_type": "execute_result"
    }
   ],
   "source": [
    "# Get the sequence (incl. UTRs, excl. introns)\n",
    "sequence = transcript.mrna_sequence\n",
    "gene.target_sequence = sequence\n",
    "print(f\"Sequence length: {len(sequence)}\")\n",
    "sequence"
   ]
  },
  {
   "cell_type": "code",
   "execution_count": 63,
   "metadata": {},
   "outputs": [],
   "source": [
    "# Export each gene sequence to a fasta file \n",
    "output_dir = os.path.join(main_directory, 'gene_seq_blast_input')\n",
    "\n",
    "# Create output directory if it does not exist\n",
    "if not os.path.exists(output_dir):\n",
    "    os.makedirs(output_dir)\n",
    "\n",
    "# Clear contents of the output directory\n",
    "for file in os.listdir(output_dir):\n",
    "    os.remove(f\"{output_dir}/{file}\")\n",
    "\n",
    "with open(f\"{output_dir}/{gene.name}.fasta\", 'w') as f: \n",
    "    f.write(f\">{gene.name}\\n{sequence}\")"
   ]
  },
  {
   "cell_type": "code",
   "execution_count": 64,
   "metadata": {},
   "outputs": [
    {
     "data": {
      "text/plain": [
       "CompletedProcess(args=\"blastn -task blastn -query output/dmel/gene_seq_blast_input/Or9a.fasta -db raw_data/dmel/transcriptome/mRNA_yes_introns/mRNA_yes_introns -ungapped -word_size 15 -reward 1 -penalty -5 -dust no -soft_masking false -max_target_seqs 10000 -out output/dmel/gene_seq_blast_output/Or9a_blasted_yes_introns.csv -outfmt '10 qseqid sseqid sacc pident length mismatch gapopen qstart qend sstart send evalue bitscore' -num_threads 4\", returncode=0)"
      ]
     },
     "execution_count": 64,
     "metadata": {},
     "output_type": "execute_result"
    }
   ],
   "source": [
    "## Blast genes against the transcriptome without introns (mature mRNA), transcriptome with introns (pre-mRNA), and intergenic regions \n",
    "input_dir = os.path.join(main_directory, 'gene_seq_blast_input')\n",
    "output_dir = os.path.join(main_directory, 'gene_seq_blast_output')\n",
    "\n",
    "# create output directory if it doesn't exist\n",
    "if not os.path.exists(output_dir):\n",
    "    os.makedirs(output_dir)\n",
    "\n",
    "# Clear contents of the output directory\n",
    "for file in os.listdir(output_dir):\n",
    "    os.remove(f\"{output_dir}/{file}\")\n",
    "\n",
    "# get gene sequence path \n",
    "input_path = f\"{input_dir}/{gene.name}.fasta\"\n",
    "\n",
    "# Blast against DB without introns \n",
    "output_path = f\"{output_dir}/{gene.name}_blasted_no_introns.csv\"\n",
    "command = f\"blastn -task blastn -query {input_path} -db {transcriptome_no_introns_db} -ungapped -word_size 15 -reward 1 -penalty -5 -dust no -soft_masking false -max_target_seqs 10000 -out {output_path} -outfmt '10 qseqid sseqid sacc pident length mismatch gapopen qstart qend sstart send evalue bitscore' -num_threads 4\"\n",
    "subprocess.run(command, shell=True, check=True)\n",
    "\n",
    "# Blast against DB with introns \n",
    "output_path = f\"{output_dir}/{gene.name}_blasted_yes_introns.csv\"\n",
    "command = f\"blastn -task blastn -query {input_path} -db {transcriptome_yes_introns_db} -ungapped -word_size 15 -reward 1 -penalty -5 -dust no -soft_masking false -max_target_seqs 10000 -out {output_path} -outfmt '10 qseqid sseqid sacc pident length mismatch gapopen qstart qend sstart send evalue bitscore' -num_threads 4\"\n",
    "subprocess.run(command, shell=True, check=True)\n"
   ]
  },
  {
   "cell_type": "code",
   "execution_count": 65,
   "metadata": {},
   "outputs": [
    {
     "name": "stdout",
     "output_type": "stream",
     "text": [
      "Unique regions have been annotated and exported to output/dmel/gene_seq_unique_regions\n"
     ]
    }
   ],
   "source": [
    "length_thresh = 50 \n",
    "\n",
    "## Iterate through blast results and annotate non-unique regions \n",
    "input_dir = os.path.join(main_directory, 'gene_seq_blast_output')\n",
    "output_dir = os.path.join(main_directory, 'gene_seq_unique_regions') \n",
    "\n",
    "# Create output directory if it does not exist\n",
    "if not os.path.exists(output_dir):\n",
    "    os.makedirs(output_dir)\n",
    "\n",
    "# Clear contents of the output directory\n",
    "for file in os.listdir(output_dir):\n",
    "    os.remove(f\"{output_dir}/{file}\")\n",
    "\n",
    "# No introns\n",
    "input_path = f\"{input_dir}/{gene.name}_blasted_no_introns.csv\"\n",
    "blast_results_no_introns = pd.read_csv(input_path, header=None, names=['query_id', 'subject_id', 'subject_acc', 'percent_identity', 'length', 'mismatches', 'gap_opens', 'q_start', 'q_end', 's_start', 's_end', 'evalue', 'bitscore'])\n",
    "blast_results_no_introns['source'] = 'no_introns'\n",
    "\n",
    "# Yes introns\n",
    "input_path = f\"{input_dir}/{gene.name}_blasted_yes_introns.csv\"\n",
    "blast_results_yes_introns = pd.read_csv(input_path, header=None, names=['query_id', 'subject_id', 'subject_acc', 'percent_identity', 'length', 'mismatches', 'gap_opens', 'q_start', 'q_end', 's_start', 's_end', 'evalue', 'bitscore'])\n",
    "blast_results_yes_introns['source'] = 'yes_introns'\n",
    "\n",
    "# Concatenate \n",
    "blast_results = pd.concat([blast_results_no_introns, blast_results_yes_introns], axis=0)\n",
    "\n",
    "# Remove rows where length < length_thresh \n",
    "blast_results = blast_results[(blast_results['length'].values >= length_thresh)]\n",
    "\n",
    "# Add column for subject gene ID \n",
    "blast_results['subject_gene_id'] = blast_results.apply(lambda x: tr.get_gene_from_transcript(x['subject_acc']), axis=1)\n",
    "blast_results['subject_gene_id'] = blast_results.apply(lambda x: x['subject_gene_id'] if x['subject_gene_id'] != None else tr.get_gene_from_transcript(x['subject_id']), axis=1) \n",
    "\n",
    "# Add column for whether the query and subject gene are the same\n",
    "blast_results['same_gene'] = blast_results['query_id'] == blast_results['subject_gene_id']\n",
    "\n",
    "# Annotate if the subject gene is a permitted off-target  \n",
    "blast_results['permitted_off_target'] = blast_results.apply(\n",
    "    lambda x: any([keyword in x['subject_id'] for keyword in permitted_off_targets]),\n",
    "    axis=1\n",
    ")\n",
    "\n",
    "# Retrieve sequence\n",
    "sequence = gene.target_sequence\n",
    "\n",
    "# Get off-targets\n",
    "off_targets = blast_results.loc[(blast_results['length'].values >= length_thresh) & # length threshold, no need for mismatch threshold here \n",
    "                                    (blast_results['same_gene'] == False) & # hits to other genes \n",
    "                                    (blast_results['permitted_off_target'] == False), :]  # ignore off-targets that are permitted \n",
    "\n",
    "# Annotate off-targets \n",
    "for j, row in off_targets.iterrows():\n",
    "    sequence = sequence[:row['q_start']] + '-'*(row['q_end'] - row['q_start']) + sequence[row['q_end']:]\n",
    "\n",
    "# Save the annotated sequence to the gene object\n",
    "gene.unique_sequence = sequence \n",
    "\n",
    "# Save the blast results to the gene object \n",
    "gene.blast_results = blast_results\n",
    "\n",
    "# Save the sequence to new file \n",
    "with open(f\"{output_dir}/{gene.name}_unique.fasta\", 'w') as f:\n",
    "    f.write(f\">{gene.name}\\n\")\n",
    "    f.write(sequence)\n",
    "\n",
    "print(f\"Unique regions have been annotated and exported to {output_dir}\")"
   ]
  },
  {
   "cell_type": "code",
   "execution_count": 66,
   "metadata": {},
   "outputs": [
    {
     "data": {
      "text/plain": [
       "'ATGAGCGACAAGGTGAAGGGAAAAAAGCAGGAGGAAAAGGATCAATCCTTGCGGGTGCAAATTCTCGTTTATCGCTGCATGGGCATCGATTTGTGGAGCCCCACGATGGCGAATGACCGCCCGTGGCTGACCTTTGTCACAATGGGACCACTTTTCCTGTTTATGGTGCCCATGTTCCTGGCCGCCCACGAGTACATCACCCAGGTGAGCCTGCTCTCCGACACCCTGGGCTCCACCTTCGCCAGCATGCTCACCCTGGTCAAATTCCTGCTCTTCTGCTATCATCGCAAGGAGTTCGTCGGCCTGATCTACCACATCAGGGCCATTCTGGCTAAAGAAATCGAAGTGTGGCCTGATGCGCGGGAAATCATCGAGGTGGAGAACCAAAGTGACCAAATGCTCAGTCTTACGTACACTCGCTGTTTTGGACTGGCTGGAATCTTTGCGGCCCTGAAGCCCTTTGTGGGCATCATACTCTCCTCGATTCGCGGCGACGAGATTCACCTGGAGCTGCCCCACAACGGCGTTTACCCGTACGATCTCCAGGTGGTCATGTTTTATGTGCCCACCTATCTGTGGAATGTGATGGCCAGCTATAGTGCTGTAACCATGGCACTCTGCGTGGACTCGCTGCTCTTCTTTTTCACCTACAACGTGTGCGCCATTTTCAAGATCGCCAAGCACCGGATGATCCATCTGCCGGCGGTGGGCGGAAAGGAGGAGCTGGAGGGGCTCGTCCAGGTGCTGCTGCTGCACCAGAAGGGCCTCCAGATCGCCGATCACATTGCGGACAAGTACCGGCCGCTGATCTTTTTGCAGTTCTTTCTGTCCGCCTTGCAGATCTGCTTCATTGGATTCCAGGTGGCTGATCTGTTTCCCAATCCGCAGAGTCTCTACTTTATCGCCTTTGTGGGCTCGCTGCTCATCGCACTGTTCATCTACTCGAAGTGCGGCGAAAATATCAAGAGTGCCAGCCTGGATTTCGGAAACGGGCTGTACGAGACCAACTGGACCGACTTCTCGCCACCCACTAAAAGAGCCCTCCTCATTGCCGCCATGCGCGCCCAGCGACCTTGCCAGATGAAGGGCTACTTTTTCGAGGCCAGCATGGCCACCTTCTCGACGATTGTTCGCTCTGCCGTGTCGTACATCATGATGTTGCGCTCCTTTAATGCCTAA'"
      ]
     },
     "execution_count": 66,
     "metadata": {},
     "output_type": "execute_result"
    }
   ],
   "source": [
    "sequence"
   ]
  },
  {
   "cell_type": "code",
   "execution_count": 67,
   "metadata": {},
   "outputs": [
    {
     "data": {
      "text/html": [
       "<div>\n",
       "<style scoped>\n",
       "    .dataframe tbody tr th:only-of-type {\n",
       "        vertical-align: middle;\n",
       "    }\n",
       "\n",
       "    .dataframe tbody tr th {\n",
       "        vertical-align: top;\n",
       "    }\n",
       "\n",
       "    .dataframe thead th {\n",
       "        text-align: right;\n",
       "    }\n",
       "</style>\n",
       "<table border=\"1\" class=\"dataframe\">\n",
       "  <thead>\n",
       "    <tr style=\"text-align: right;\">\n",
       "      <th></th>\n",
       "      <th>query_id</th>\n",
       "      <th>subject_id</th>\n",
       "      <th>subject_acc</th>\n",
       "      <th>percent_identity</th>\n",
       "      <th>length</th>\n",
       "      <th>mismatches</th>\n",
       "      <th>gap_opens</th>\n",
       "      <th>q_start</th>\n",
       "      <th>q_end</th>\n",
       "      <th>s_start</th>\n",
       "      <th>s_end</th>\n",
       "      <th>evalue</th>\n",
       "      <th>bitscore</th>\n",
       "      <th>source</th>\n",
       "      <th>subject_gene_id</th>\n",
       "      <th>same_gene</th>\n",
       "      <th>permitted_off_target</th>\n",
       "    </tr>\n",
       "  </thead>\n",
       "  <tbody>\n",
       "    <tr>\n",
       "      <th>0</th>\n",
       "      <td>Or9a</td>\n",
       "      <td>ref|NM_078552.3|</td>\n",
       "      <td>NM_078552</td>\n",
       "      <td>100.0</td>\n",
       "      <td>1179</td>\n",
       "      <td>0</td>\n",
       "      <td>0</td>\n",
       "      <td>1</td>\n",
       "      <td>1179</td>\n",
       "      <td>1</td>\n",
       "      <td>1179</td>\n",
       "      <td>0.000000e+00</td>\n",
       "      <td>2357.0</td>\n",
       "      <td>no_introns</td>\n",
       "      <td>Or9a</td>\n",
       "      <td>True</td>\n",
       "      <td>False</td>\n",
       "    </tr>\n",
       "    <tr>\n",
       "      <th>0</th>\n",
       "      <td>Or9a</td>\n",
       "      <td>ref|NM_078552.3|</td>\n",
       "      <td>NM_078552</td>\n",
       "      <td>100.0</td>\n",
       "      <td>522</td>\n",
       "      <td>0</td>\n",
       "      <td>0</td>\n",
       "      <td>604</td>\n",
       "      <td>1125</td>\n",
       "      <td>741</td>\n",
       "      <td>1262</td>\n",
       "      <td>0.000000e+00</td>\n",
       "      <td>1043.0</td>\n",
       "      <td>yes_introns</td>\n",
       "      <td>Or9a</td>\n",
       "      <td>True</td>\n",
       "      <td>False</td>\n",
       "    </tr>\n",
       "    <tr>\n",
       "      <th>1</th>\n",
       "      <td>Or9a</td>\n",
       "      <td>ref|NM_078552.3|</td>\n",
       "      <td>NM_078552</td>\n",
       "      <td>100.0</td>\n",
       "      <td>337</td>\n",
       "      <td>0</td>\n",
       "      <td>0</td>\n",
       "      <td>1</td>\n",
       "      <td>337</td>\n",
       "      <td>1</td>\n",
       "      <td>337</td>\n",
       "      <td>0.000000e+00</td>\n",
       "      <td>674.0</td>\n",
       "      <td>yes_introns</td>\n",
       "      <td>Or9a</td>\n",
       "      <td>True</td>\n",
       "      <td>False</td>\n",
       "    </tr>\n",
       "    <tr>\n",
       "      <th>2</th>\n",
       "      <td>Or9a</td>\n",
       "      <td>ref|NM_078552.3|</td>\n",
       "      <td>NM_078552</td>\n",
       "      <td>100.0</td>\n",
       "      <td>272</td>\n",
       "      <td>0</td>\n",
       "      <td>0</td>\n",
       "      <td>336</td>\n",
       "      <td>607</td>\n",
       "      <td>398</td>\n",
       "      <td>669</td>\n",
       "      <td>6.290000e-153</td>\n",
       "      <td>544.0</td>\n",
       "      <td>yes_introns</td>\n",
       "      <td>Or9a</td>\n",
       "      <td>True</td>\n",
       "      <td>False</td>\n",
       "    </tr>\n",
       "    <tr>\n",
       "      <th>3</th>\n",
       "      <td>Or9a</td>\n",
       "      <td>ref|NM_078552.3|</td>\n",
       "      <td>NM_078552</td>\n",
       "      <td>100.0</td>\n",
       "      <td>55</td>\n",
       "      <td>0</td>\n",
       "      <td>0</td>\n",
       "      <td>1125</td>\n",
       "      <td>1179</td>\n",
       "      <td>1437</td>\n",
       "      <td>1491</td>\n",
       "      <td>2.380000e-22</td>\n",
       "      <td>110.0</td>\n",
       "      <td>yes_introns</td>\n",
       "      <td>Or9a</td>\n",
       "      <td>True</td>\n",
       "      <td>False</td>\n",
       "    </tr>\n",
       "  </tbody>\n",
       "</table>\n",
       "</div>"
      ],
      "text/plain": [
       "  query_id        subject_id subject_acc  percent_identity  length  \\\n",
       "0     Or9a  ref|NM_078552.3|   NM_078552             100.0    1179   \n",
       "0     Or9a  ref|NM_078552.3|   NM_078552             100.0     522   \n",
       "1     Or9a  ref|NM_078552.3|   NM_078552             100.0     337   \n",
       "2     Or9a  ref|NM_078552.3|   NM_078552             100.0     272   \n",
       "3     Or9a  ref|NM_078552.3|   NM_078552             100.0      55   \n",
       "\n",
       "   mismatches  gap_opens  q_start  q_end  s_start  s_end         evalue  \\\n",
       "0           0          0        1   1179        1   1179   0.000000e+00   \n",
       "0           0          0      604   1125      741   1262   0.000000e+00   \n",
       "1           0          0        1    337        1    337   0.000000e+00   \n",
       "2           0          0      336    607      398    669  6.290000e-153   \n",
       "3           0          0     1125   1179     1437   1491   2.380000e-22   \n",
       "\n",
       "   bitscore       source subject_gene_id  same_gene  permitted_off_target  \n",
       "0    2357.0   no_introns            Or9a       True                 False  \n",
       "0    1043.0  yes_introns            Or9a       True                 False  \n",
       "1     674.0  yes_introns            Or9a       True                 False  \n",
       "2     544.0  yes_introns            Or9a       True                 False  \n",
       "3     110.0  yes_introns            Or9a       True                 False  "
      ]
     },
     "execution_count": 67,
     "metadata": {},
     "output_type": "execute_result"
    }
   ],
   "source": [
    "blast_results"
   ]
  },
  {
   "cell_type": "code",
   "execution_count": 68,
   "metadata": {},
   "outputs": [
    {
     "name": "stdout",
     "output_type": "stream",
     "text": [
      "There is enough space for 20 probes on Or9a\n"
     ]
    }
   ],
   "source": [
    "# Determine how many probes fit on each gene \n",
    "sequence = gene.unique_sequence \n",
    "probes, regions, positions = design_hcr_probes(sequence, \"B1\")\n",
    "\n",
    "print(f\"There is enough space for {len(probes)} probes on {gene.name}\")"
   ]
  },
  {
   "cell_type": "code",
   "execution_count": 69,
   "metadata": {},
   "outputs": [],
   "source": [
    "# Specify amplifier \n",
    "amplifier = \"B3\""
   ]
  },
  {
   "cell_type": "code",
   "execution_count": 70,
   "metadata": {},
   "outputs": [],
   "source": [
    "# Specify how many probes \n",
    "n_probes = 30"
   ]
  },
  {
   "cell_type": "code",
   "execution_count": 71,
   "metadata": {},
   "outputs": [
    {
     "name": "stdout",
     "output_type": "stream",
     "text": [
      "40 probes have been exported to output/dmel/IDT_sheets/Or9a-B3-NM_078552.3-2024-11-09.xlsx\n"
     ]
    }
   ],
   "source": [
    "# Export excel sheet with probes and excel sheet with probe binding regions \n",
    "\n",
    "# Design probes\n",
    "sequence = gene.unique_sequence \n",
    "probes, regions, positions = design_hcr_probes(sequence, amplifier)\n",
    "\n",
    "# Randomly select n_probes_per_gene probes \n",
    "np.random.seed(1)\n",
    "if len(probes) < n_probes:\n",
    "    indices = range(len(probes))\n",
    "else: \n",
    "    indices = np.random.choice(range(len(probes)), n_probes, replace=False)\n",
    "probes = [probes[i] for i in indices]\n",
    "regions = [regions[i] for i in indices]\n",
    "\n",
    "# Save probes and regions to gene object\n",
    "gene.probes = probes\n",
    "gene.regions = regions\n",
    "\n",
    "# Collapse probes \n",
    "probes_collapsed = [probe for sublist in probes for probe in sublist]\n",
    "\n",
    "# Get date \n",
    "today = pd.Timestamp.now().strftime('%Y-%m-%d')\n",
    "\n",
    "# Export probes \n",
    "output_dir = os.path.join(main_directory, 'IDT_sheets')\n",
    "# Create output directory if it does not exist\n",
    "if not os.path.exists(output_dir):\n",
    "    os.makedirs(output_dir)\n",
    "# Create output path\n",
    "output_path = f\"{output_dir}/{gene_name}-{amplifier}-{transcript.name}-{today}.xlsx\"\n",
    "# Create dataframe\n",
    "df = pd.DataFrame({'Sequence': probes_collapsed})\n",
    "# Add pool name column \n",
    "df['Pool name'] = f'{gene_name}-{amplifier}-{transcript.name}'\n",
    "df = df[['Pool name', 'Sequence']]\n",
    "df.to_excel(output_path, index=False)\n",
    "print(f\"{len(probes_collapsed)} probes have been exported to {output_path}\")\n",
    "\n",
    "\n",
    "# Export probe binding regions\n",
    "output_dir = os.path.join(main_directory, 'probe_binding_regions_sheets') \n",
    "# Create output directory if it does not exist\n",
    "if not os.path.exists(output_dir):\n",
    "    os.makedirs(output_dir)\n",
    "# Create output path\n",
    "output_path = f\"{output_dir}/{gene_name}-{amplifier}-{transcript.name}-regions-{today}.xlsx\"\n",
    "# Make a vector of the gene names for each probe \n",
    "target_genes = [gene.name for _ in range(len(probes))]\n",
    "df = pd.DataFrame({'Gene': [gene.name for _ in range(len(probes))], \n",
    "                   'Region': regions, \n",
    "                   'Probe 1': [probe[0] for probe in gene.probes], \n",
    "                   'Probe 2': [probe[1] for probe in gene.probes]})\n",
    "df.to_excel(output_path, index=False)"
   ]
  },
  {
   "cell_type": "code",
   "execution_count": 72,
   "metadata": {},
   "outputs": [],
   "source": [
    "# Export all_regions to individual fasta files \n",
    "\n",
    "output_dir = os.path.join(main_directory, 'probe_region_blast_input')\n",
    "# Create output directory if it does not exist\n",
    "if not os.path.exists(output_dir):\n",
    "    os.makedirs(output_dir)\n",
    "\n",
    "# Clear contents of the output directory\n",
    "for file in os.listdir(output_dir):\n",
    "    os.remove(f\"{output_dir}/{file}\")\n",
    "\n",
    "# Export all_regions to individual fasta files in output_dir \n",
    "for i, region in enumerate(regions): \n",
    "    with open(f\"{output_dir}/region-{i}.fasta\", 'w') as f: \n",
    "        f.write(f\">region-{i}\\n{region}\")"
   ]
  },
  {
   "cell_type": "code",
   "execution_count": 74,
   "metadata": {},
   "outputs": [
    {
     "name": "stdout",
     "output_type": "stream",
     "text": [
      "All regions have been blasted against the transcriptome\n"
     ]
    }
   ],
   "source": [
    "# Blast all regions against the transcriptome\n",
    "\n",
    "input_dir = os.path.join(main_directory, 'probe_region_blast_input')\n",
    "output_dir = os.path.join(main_directory, 'probe_region_blast_output') \n",
    "\n",
    "# Create output directory if it does not exist\n",
    "if not os.path.exists(output_dir):\n",
    "    os.makedirs(output_dir)\n",
    "\n",
    "# Clear contents of the output directory\n",
    "for file in os.listdir(output_dir):\n",
    "    os.remove(f\"{output_dir}/{file}\")\n",
    "\n",
    "# Blast each region against the transcriptome\n",
    "for i, region in enumerate(regions): \n",
    "    input_path = f\"{input_dir}/region-{i}.fasta\"\n",
    "\n",
    "    # Blast against transcriptome without introns\n",
    "    output_path = f\"{output_dir}/region-{i}-blasted_no_introns.csv\"\n",
    "    command = f\"blastn -task blastn -query {input_path} -db {transcriptome_no_introns_db} -ungapped -word_size 15 -reward 1 -penalty -1 -dust no -soft_masking false -max_target_seqs 10000 -out {output_path} -outfmt '10 qseqid sseqid sacc pident length mismatch gapopen qstart qend sstart send evalue bitscore' -num_threads 4\"\n",
    "    subprocess.run(command, shell=True, check=True)\n",
    "\n",
    "    # Blast against transcriptome with introns\n",
    "    output_path = f\"{output_dir}/region-{i}-blasted_yes_introns.csv\"\n",
    "    command = f\"blastn -task blastn -query {input_path} -db {transcriptome_yes_introns_db} -ungapped -word_size 15 -reward 1 -penalty -1 -dust no -soft_masking false -max_target_seqs 10000 -out {output_path} -outfmt '10 qseqid sseqid sacc pident length mismatch gapopen qstart qend sstart send evalue bitscore' -num_threads 4\"\n",
    "    subprocess.run(command, shell=True, check=True)\n",
    "\n",
    "print(\"All regions have been blasted against the transcriptome\")"
   ]
  },
  {
   "cell_type": "code",
   "execution_count": 76,
   "metadata": {},
   "outputs": [],
   "source": [
    "# Load in blast results\n",
    "output_dir = os.path.join(main_directory, 'probe_region_blast_output') \n",
    "all_blast_results = []\n",
    "for i, region in enumerate(regions):\n",
    "    output_path = f\"{output_dir}/region-{i}-blasted_no_introns.csv\"\n",
    "    blast_results = pd.read_csv(output_path, header=None, names=['query_id', 'subject_id', 'subject_acc', 'percent_identity', 'length', 'mismatches', 'gap_opens', 'q_start', 'q_end', 's_start', 's_end', 'evalue', 'bitscore'])\n",
    "    blast_results['source']  = 'no_introns'\n",
    "    all_blast_results.append(blast_results)\n",
    "    output_path = f\"{output_dir}/region-{i}-blasted_yes_introns.csv\"\n",
    "    blast_results = pd.read_csv(output_path, header=None, names=['query_id', 'subject_id', 'subject_acc', 'percent_identity', 'length', 'mismatches', 'gap_opens', 'q_start', 'q_end', 's_start', 's_end', 'evalue', 'bitscore'])\n",
    "    blast_results['source']  = 'yes_introns'\n",
    "    all_blast_results.append(blast_results)"
   ]
  },
  {
   "cell_type": "code",
   "execution_count": 77,
   "metadata": {},
   "outputs": [
    {
     "name": "stdout",
     "output_type": "stream",
     "text": [
      "Found 0 off-target hits with length >= 50bp, mismatches <= 5\n"
     ]
    }
   ],
   "source": [
    "# Check for non-unique regions\n",
    "\n",
    "num_hits_over_thresh = 0\n",
    "length_thresh = 50\n",
    "mismatch_thresh = 5 \n",
    "all_off_targets = pd.DataFrame()\n",
    "\n",
    "# Iterate through blast results \n",
    "for i, blast_results in enumerate(all_blast_results):\n",
    "    if len(blast_results) == 0: \n",
    "        \n",
    "        continue\n",
    "\n",
    "    # Add column for subject gene ID \n",
    "    blast_results['subject_gene_id'] = blast_results.apply(lambda x: tr.get_gene_from_transcript(x['subject_acc']), axis=1)\n",
    "    blast_results['subject_gene_id'] = blast_results.apply(lambda x: x['subject_gene_id'] if x['subject_gene_id'] != None else tr.get_gene_from_transcript(x['subject_id']), axis=1)\n",
    "\n",
    "    # Add column for whether the query and subject gene are the same\n",
    "    blast_results['same_gene'] = gene_name == blast_results['subject_gene_id']\n",
    "\n",
    "    # Annotate if the subject gene is a permitted off-target\n",
    "    blast_results['permitted_off_target'] = blast_results.apply(\n",
    "        lambda x: any([keyword in x['subject_id'] for keyword in permitted_off_targets]),\n",
    "        axis=1\n",
    "    )\n",
    "\n",
    "    # Retrieve sequence\n",
    "    sequence = gene.target_sequence\n",
    "\n",
    "    # Get off-targets\n",
    "    off_targets = blast_results.loc[(blast_results['length'].values >= length_thresh) & # length threshold, no need for mismatch threshold here \n",
    "                                    (blast_results['mismatches'].values <= mismatch_thresh) & # mismatch threshold\n",
    "                                    (blast_results['same_gene'] == False) & # hits to other genes\n",
    "                                    (blast_results['permitted_off_target'] == False), :]  # ignore permitted off-targets \n",
    "\n",
    "    # Add to the all_off_targets dataframe\n",
    "    all_off_targets = pd.concat([all_off_targets, off_targets])\n",
    "\n",
    "    # Update num_hits_over_thresh   \n",
    "    num_hits_over_thresh += len(off_targets)\n",
    "\n",
    "print(f\"Found {num_hits_over_thresh} off-target hits with length >= {length_thresh}bp, mismatches <= {mismatch_thresh}\")"
   ]
  },
  {
   "cell_type": "code",
   "execution_count": 78,
   "metadata": {},
   "outputs": [
    {
     "data": {
      "text/html": [
       "<div>\n",
       "<style scoped>\n",
       "    .dataframe tbody tr th:only-of-type {\n",
       "        vertical-align: middle;\n",
       "    }\n",
       "\n",
       "    .dataframe tbody tr th {\n",
       "        vertical-align: top;\n",
       "    }\n",
       "\n",
       "    .dataframe thead th {\n",
       "        text-align: right;\n",
       "    }\n",
       "</style>\n",
       "<table border=\"1\" class=\"dataframe\">\n",
       "  <thead>\n",
       "    <tr style=\"text-align: right;\">\n",
       "      <th></th>\n",
       "      <th>query_id</th>\n",
       "      <th>subject_id</th>\n",
       "      <th>subject_acc</th>\n",
       "      <th>percent_identity</th>\n",
       "      <th>length</th>\n",
       "      <th>mismatches</th>\n",
       "      <th>gap_opens</th>\n",
       "      <th>q_start</th>\n",
       "      <th>q_end</th>\n",
       "      <th>s_start</th>\n",
       "      <th>s_end</th>\n",
       "      <th>evalue</th>\n",
       "      <th>bitscore</th>\n",
       "      <th>source</th>\n",
       "      <th>subject_gene_id</th>\n",
       "      <th>same_gene</th>\n",
       "      <th>permitted_off_target</th>\n",
       "    </tr>\n",
       "  </thead>\n",
       "  <tbody>\n",
       "  </tbody>\n",
       "</table>\n",
       "</div>"
      ],
      "text/plain": [
       "Empty DataFrame\n",
       "Columns: [query_id, subject_id, subject_acc, percent_identity, length, mismatches, gap_opens, q_start, q_end, s_start, s_end, evalue, bitscore, source, subject_gene_id, same_gene, permitted_off_target]\n",
       "Index: []"
      ]
     },
     "execution_count": 78,
     "metadata": {},
     "output_type": "execute_result"
    }
   ],
   "source": [
    "all_off_targets"
   ]
  },
  {
   "cell_type": "code",
   "execution_count": null,
   "metadata": {},
   "outputs": [
    {
     "data": {
      "image/png": "[encoded data removed]",
      "text/plain": [
       "<Figure size 1500x100 with 1 Axes>"
      ]
     },
     "metadata": {},
     "output_type": "display_data"
    }
   ],
   "source": [
    "white_plotting() \n",
    "# Create a new GenomeViz object\n",
    "gv = GenomeViz(track_align_type=\"center\")\n",
    "gv.set_scale_bar(ymargin=0.5)\n",
    "\n",
    "# Get bounds \n",
    "chromosome = gene.chromosome\n",
    "bounds = transcript.get_bounds() \n",
    "min_start = int(bounds[0])\n",
    "max_end = int(bounds[1])\n",
    "track = gv.add_feature_track(chromosome, segments = (min_start, max_end))\n",
    "track.add_sublabel()\n",
    "\n",
    "# Add exons to plot\n",
    "exon_bounds = [[int(exon.position[0]), int(exon.position[1])] for exon in transcript.exons]\n",
    "exon_bounds = sorted(exon_bounds, key=lambda x: x[0])\n",
    "strand = int(np.where(transcript.strand == '+', 1, -1) )\n",
    "track.add_exon_feature(exon_bounds, strand, plotstyle='arrow', arrow_shaft_ratio = 0.5, patch_kws=dict(fc=\"green\", ec=\"none\", alpha=0.5), intron_patch_kws=dict(ec=\"black\", lw=2), label='')\n",
    "\n",
    "# Add UTRs to the plot\n",
    "for utr in transcript.utrs:\n",
    "    track.add_feature(int(utr.position[0]), int(utr.position[1]), strand, plotstyle=\"box\", lw=0, fc='grey', alpha=0.5)\n",
    "\n",
    "# Get the region of the genome \n",
    "forward_seq = str(genome_seq[chromosome].seq[min_start:max_end]).upper()\n",
    "\n",
    "# Add probe regions to plot on opposite strand \n",
    "for region in regions:\n",
    "    positions = [m.start() for m in re.finditer(region, forward_seq)]\n",
    "    for position in positions:\n",
    "        track.add_feature(min_start + position, min_start + position + len(region), 1, plotstyle=\"box\", label = '', ec=\"none\", fc=\"magenta\", alpha=0.8)\n",
    "\n",
    "# Add reverse complement \n",
    "reverse_seq = reverse_complement(forward_seq)\n",
    "for region in regions:\n",
    "    positions = [m.start() for m in re.finditer(region, reverse_seq)]\n",
    "    for position in positions:\n",
    "        track.add_feature(max_end - position - len(region), max_end - position, -1, plotstyle=\"box\", label = '', ec=\"none\", fc=\"blue\", alpha=0.8)\n",
    "\n",
    "fig = gv.plotfig()\n",
    "\n",
    "plt.title(f\"{gene_name} Probes\", y=1.8, fontsize=16)\n",
    "plt.show()\n",
    "\n",
    "# Export figure \n",
    "output_dir = os.path.join(main_directory, 'probe_regions_plot')\n",
    "\n",
    "# Create output directory if it does not exist\n",
    "if not os.path.exists(output_dir):\n",
    "    os.makedirs(output_dir)\n",
    "\n",
    "# Save figure\n",
    "output_path = f\"{output_dir}/{gene_name}-{amplifier}-{transcript.name}-probes-white.png\"\n",
    "fig.savefig(output_path, bbox_inches='tight', dpi=300)\n",
    "\n"
   ]
  },
  {
   "cell_type": "code",
   "execution_count": null,
   "metadata": {},
   "outputs": [
    {
     "data": {
      "image/png": "[encoded data removed]",
      "text/plain": [
       "<Figure size 1500x100 with 1 Axes>"
      ]
     },
     "metadata": {},
     "output_type": "display_data"
    }
   ],
   "source": [
    "black_plotting()\n",
    "# Create a new GenomeViz object\n",
    "gv = GenomeViz(track_align_type=\"center\", theme=\"dark\")\n",
    "gv.set_scale_bar(ymargin=0.5)\n",
    "\n",
    "# Get bounds \n",
    "chromosome = gene.chromosome\n",
    "bounds = transcript.get_bounds() \n",
    "min_start = int(bounds[0])\n",
    "max_end = int(bounds[1])\n",
    "track = gv.add_feature_track(chromosome, segments = (min_start, max_end))\n",
    "track.add_sublabel()\n",
    "\n",
    "# Add exons to plot\n",
    "exon_bounds = [[int(exon.position[0]), int(exon.position[1])] for exon in transcript.exons]\n",
    "exon_bounds = sorted(exon_bounds, key=lambda x: x[0])\n",
    "strand = int(np.where(transcript.strand == '+', 1, -1) )\n",
    "track.add_exon_feature(exon_bounds, strand, plotstyle='arrow', arrow_shaft_ratio = 0.5, patch_kws=dict(fc=\"pink\", ec=\"none\", alpha=1), intron_patch_kws=dict(ec=\"white\", lw=2), label='')\n",
    "\n",
    "# Add UTRs to the plot\n",
    "for utr in transcript.utrs:\n",
    "    track.add_feature(int(utr.position[0]), int(utr.position[1]), strand, plotstyle=\"box\", lw=0, fc='white', alpha=0.8)\n",
    "\n",
    "# Get the region of the genome \n",
    "forward_seq = str(genome_seq[chromosome].seq[min_start:max_end]).upper()\n",
    "\n",
    "# Add probe regions to plot on opposite strand \n",
    "for region in regions:\n",
    "    positions = [m.start() for m in re.finditer(region, forward_seq)]\n",
    "    for position in positions:\n",
    "        track.add_feature(min_start + position, min_start + position + len(region), 1, plotstyle=\"box\", label = '', ec=\"none\", fc=\"magenta\", alpha=0.8)\n",
    "\n",
    "# Add reverse complement \n",
    "reverse_seq = reverse_complement(forward_seq)\n",
    "for region in regions:\n",
    "    positions = [m.start() for m in re.finditer(region, reverse_seq)]\n",
    "    for position in positions:\n",
    "        track.add_feature(max_end - position - len(region), max_end - position, -1, plotstyle=\"box\", label = '', ec=\"none\", fc=\"green\", alpha=1)\n",
    "\n",
    "fig = gv.plotfig()\n",
    "\n",
    "plt.title(f\"{gene_name} Probes\", y=1.8, fontsize=16)\n",
    "plt.show()\n",
    "\n",
    "# Export figure \n",
    "output_dir = os.path.join(main_directory, 'probe_regions_plot')\n",
    "\n",
    "# Create output directory if it does not exist\n",
    "if not os.path.exists(output_dir):\n",
    "    os.makedirs(output_dir)\n",
    "\n",
    "# Save figure\n",
    "output_path = f\"{output_dir}/{gene_name}-{amplifier}-{transcript.name}-probes-black.png\"\n",
    "fig.savefig(output_path, bbox_inches='tight', dpi=300)\n",
    "\n"
   ]
  },
  {
   "cell_type": "code",
   "execution_count": null,
   "metadata": {},
   "outputs": [],
   "source": []
  }
 ],
 "metadata": {
  "kernelspec": {
   "display_name": "antman",
   "language": "python",
   "name": "python3"
  },
  "language_info": {
   "codemirror_mode": {
    "name": "ipython",
    "version": 3
   },
   "file_extension": ".py",
   "mimetype": "text/x-python",
   "name": "python",
   "nbconvert_exporter": "python",
   "pygments_lexer": "ipython3",
   "version": "3.12.2"
  }
 },
 "nbformat": 4,
 "nbformat_minor": 2
}
