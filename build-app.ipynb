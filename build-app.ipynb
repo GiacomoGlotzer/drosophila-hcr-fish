{
 "cells": [
  {
   "cell_type": "code",
   "execution_count": 1,
   "metadata": {},
   "outputs": [
    {
     "name": "stdout",
     "output_type": "stream",
     "text": [
      "Initializing transcriptomics package\n"
     ]
    }
   ],
   "source": [
    "import os \n",
    "import subprocess\n",
    "from transcriptomics import * "
   ]
  },
  {
   "cell_type": "markdown",
   "metadata": {},
   "source": [
    "# Drosophila Melanogaster"
   ]
  },
  {
   "cell_type": "markdown",
   "metadata": {},
   "source": [
    "Build transcriptome object "
   ]
  },
  {
   "cell_type": "code",
   "execution_count": null,
   "metadata": {},
   "outputs": [],
   "source": [
    "mel_genome_path = \"raw_data/dmel/genome/dm6.fa\"\n",
    "mel_transcriptome_path = \"raw_data/dmel/transcriptome/dm6.ncbiRefSeq.gtf\"\n",
    "mel_object_name = \"mel_transcriptome\"\n",
    "update_transcriptome_object(mel_genome_path, mel_transcriptome_path, mel_object_name)"
   ]
  },
  {
   "cell_type": "code",
   "execution_count": 4,
   "metadata": {},
   "outputs": [],
   "source": [
    "tr = load_transcriptome_object(mel_object_name)"
   ]
  },
  {
   "cell_type": "code",
   "execution_count": 7,
   "metadata": {},
   "outputs": [],
   "source": [
    "check_exons_contain_all_features(tr)"
   ]
  },
  {
   "cell_type": "markdown",
   "metadata": {},
   "source": [
    "Export mRNA to Fasta file"
   ]
  },
  {
   "cell_type": "code",
   "execution_count": 7,
   "metadata": {},
   "outputs": [],
   "source": [
    "output_dir = \"raw_data/dmel/transcriptome/mRNA_no_introns\"\n",
    "if not os.path.exists(output_dir):\n",
    "    os.makedirs(output_dir)\n",
    "\n",
    "output_path = os.path.join(output_dir, \"mRNA_no_introns.fasta\")\n",
    "\n",
    "with open(output_path, \"w\") as output_file:\n",
    "    for gene_name in tr.genes.keys():\n",
    "        gene = tr.genes[gene_name]\n",
    "        for transcript in gene.transcripts:\n",
    "            output_file.write(f\">{transcript.name} gene={gene.name} location={transcript.chromosome}:{transcript.position[0]}-{transcript.position[1]} strand={transcript.strand} \\n{transcript.mrna_sequence} \\n\")\n"
   ]
  },
  {
   "cell_type": "markdown",
   "metadata": {},
   "source": [
    "Export mRNA (introns included) to Fasta file"
   ]
  },
  {
   "cell_type": "code",
   "execution_count": 8,
   "metadata": {},
   "outputs": [],
   "source": [
    "output_dir = \"raw_data/dmel/transcriptome/mRNA_yes_introns\"\n",
    "if not os.path.exists(output_dir):\n",
    "    os.makedirs(output_dir)\n",
    "\n",
    "output_path = os.path.join(output_dir, \"mRNA_yes_introns.fasta\")\n",
    "\n",
    "with open(output_path, \"w\") as output_file:\n",
    "    for gene_name in tr.genes.keys():\n",
    "        gene = tr.genes[gene_name]\n",
    "        for transcript in gene.transcripts:\n",
    "            output_file.write(f\">{transcript.name} gene={gene.name} location={transcript.chromosome}:{transcript.position[0]}-{transcript.position[1]} strand={transcript.strand} \\n{transcript.dna_sequence} \\n\")\n"
   ]
  },
  {
   "cell_type": "markdown",
   "metadata": {},
   "source": [
    "Create Blast Databases"
   ]
  },
  {
   "cell_type": "code",
   "execution_count": 11,
   "metadata": {},
   "outputs": [
    {
     "name": "stdout",
     "output_type": "stream",
     "text": [
      "makeblastdb: 2.15.0+\n",
      " Package: blast 2.15.0, build Oct 19 2023 15:16:13\n"
     ]
    }
   ],
   "source": [
    "# Check that makeblastdb is installed\n",
    "!makeblastdb -version"
   ]
  },
  {
   "cell_type": "code",
   "execution_count": 12,
   "metadata": {},
   "outputs": [
    {
     "name": "stdout",
     "output_type": "stream",
     "text": [
      "\n",
      "\n",
      "Building a new DB, current time: 11/09/2024 10:58:02\n",
      "New DB name:   /Users/giacomo.glotzer/Desktop/Drosophila-HCR/raw_data/dmel/transcriptome/mRNA_no_introns/mRNA_no_introns\n",
      "New DB title:  raw_data/dmel/transcriptome/mRNA_no_introns/mRNA_no_introns.fasta\n",
      "Sequence type: Nucleotide\n",
      "Keep MBits: T\n",
      "Maximum file size: 3000000000B\n",
      "Adding sequences from FASTA; added 35121 sequences in 0.898643 seconds.\n",
      "\n",
      "\n"
     ]
    },
    {
     "data": {
      "text/plain": [
       "CompletedProcess(args='makeblastdb -in raw_data/dmel/transcriptome/mRNA_no_introns/mRNA_no_introns.fasta -dbtype nucl -parse_seqids -out raw_data/dmel/transcriptome/mRNA_no_introns/mRNA_no_introns', returncode=0)"
      ]
     },
     "execution_count": 12,
     "metadata": {},
     "output_type": "execute_result"
    }
   ],
   "source": [
    "input_path = \"raw_data/dmel/transcriptome/mRNA_no_introns/mRNA_no_introns.fasta\"\n",
    "output_path = \"raw_data/dmel/transcriptome/mRNA_no_introns/mRNA_no_introns\"\n",
    "command = f\"makeblastdb -in {input_path} -dbtype nucl -parse_seqids -out {output_path}\"\n",
    "subprocess.run(command, shell=True)"
   ]
  },
  {
   "cell_type": "code",
   "execution_count": 13,
   "metadata": {},
   "outputs": [
    {
     "name": "stdout",
     "output_type": "stream",
     "text": [
      "\n",
      "\n",
      "Building a new DB, current time: 11/09/2024 10:58:16\n",
      "New DB name:   /Users/giacomo.glotzer/Desktop/Drosophila-HCR/raw_data/dmel/transcriptome/mRNA_yes_introns/mRNA_yes_introns\n",
      "New DB title:  raw_data/dmel/transcriptome/mRNA_yes_introns/mRNA_yes_introns.fasta\n",
      "Sequence type: Nucleotide\n",
      "Keep MBits: T\n",
      "Maximum file size: 3000000000B\n",
      "Adding sequences from FASTA; added 35121 sequences in 2.73018 seconds.\n",
      "\n",
      "\n"
     ]
    },
    {
     "data": {
      "text/plain": [
       "CompletedProcess(args='makeblastdb -in raw_data/dmel/transcriptome/mRNA_yes_introns/mRNA_yes_introns.fasta -dbtype nucl -parse_seqids -out raw_data/dmel/transcriptome/mRNA_yes_introns/mRNA_yes_introns', returncode=0)"
      ]
     },
     "execution_count": 13,
     "metadata": {},
     "output_type": "execute_result"
    }
   ],
   "source": [
    "input_path = \"raw_data/dmel/transcriptome/mRNA_yes_introns/mRNA_yes_introns.fasta\"\n",
    "output_path = \"raw_data/dmel/transcriptome/mRNA_yes_introns/mRNA_yes_introns\"\n",
    "command = f\"makeblastdb -in {input_path} -dbtype nucl -parse_seqids -out {output_path}\"\n",
    "subprocess.run(command, shell=True)"
   ]
  },
  {
   "cell_type": "markdown",
   "metadata": {},
   "source": [
    "# Drosophila Yakuba"
   ]
  },
  {
   "cell_type": "code",
   "execution_count": null,
   "metadata": {},
   "outputs": [],
   "source": []
  }
 ],
 "metadata": {
  "kernelspec": {
   "display_name": "antman",
   "language": "python",
   "name": "python3"
  },
  "language_info": {
   "codemirror_mode": {
    "name": "ipython",
    "version": 3
   },
   "file_extension": ".py",
   "mimetype": "text/x-python",
   "name": "python",
   "nbconvert_exporter": "python",
   "pygments_lexer": "ipython3",
   "version": "3.12.2"
  }
 },
 "nbformat": 4,
 "nbformat_minor": 2
}
