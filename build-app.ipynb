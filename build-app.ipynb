{
 "cells": [
  {
   "cell_type": "code",
   "execution_count": 14,
   "metadata": {},
   "outputs": [],
   "source": [
    "import os \n",
    "import subprocess\n",
    "from transcriptomics import * "
   ]
  },
  {
   "cell_type": "markdown",
   "metadata": {},
   "source": [
    "# Drosophila Melanogaster"
   ]
  },
  {
   "cell_type": "markdown",
   "metadata": {},
   "source": [
    "Download Genome"
   ]
  },
  {
   "cell_type": "code",
   "execution_count": 23,
   "metadata": {},
   "outputs": [
    {
     "name": "stdout",
     "output_type": "stream",
     "text": [
      "dm6.fa.gz\n",
      "    45153922 100%  531.63MB/s    0:00:00 (xfer#1, to-check=0/1)\n",
      "\n",
      "sent 47134 bytes  received 27010 bytes  49429.33 bytes/sec\n",
      "total size is 45153922  speedup is 609.00\n"
     ]
    },
    {
     "data": {
      "text/plain": [
       "CompletedProcess(args='rsync --partial --progress rsync://hgdownload.soe.ucsc.edu/goldenPath/dm6/bigZips/dm6.fa.gz raw_data/dmel/genome/dm6.fa.gz', returncode=0)"
      ]
     },
     "execution_count": 23,
     "metadata": {},
     "output_type": "execute_result"
    }
   ],
   "source": [
    "# Make directory \n",
    "output_dir = \"raw_data/dmel/genome\"\n",
    "if not os.path.exists(output_dir):\n",
    "    os.makedirs(output_dir)\n",
    "\n",
    "\n",
    "# Download the genome\n",
    "rsync_path = \"rsync://hgdownload.soe.ucsc.edu/goldenPath/dm6/bigZips/dm6.fa.gz\"\n",
    "output_path = os.path.join(output_dir, \"dm6.fa.gz\")\n",
    "command = f\"rsync --partial --progress {rsync_path} {output_path}\"\n",
    "subprocess.run(command, shell=True)"
   ]
  },
  {
   "cell_type": "markdown",
   "metadata": {},
   "source": [
    "Unzip Genome"
   ]
  },
  {
   "cell_type": "code",
   "execution_count": 24,
   "metadata": {},
   "outputs": [
    {
     "data": {
      "text/plain": [
       "CompletedProcess(args='gunzip raw_data/dmel/genome/dm6.fa.gz', returncode=0)"
      ]
     },
     "execution_count": 24,
     "metadata": {},
     "output_type": "execute_result"
    }
   ],
   "source": [
    "# Unzip the genome\n",
    "output_path = \"raw_data/dmel/genome/dm6.fa.gz\"\n",
    "command = f\"gunzip {output_path}\"\n",
    "subprocess.run(command, shell=True)"
   ]
  },
  {
   "cell_type": "markdown",
   "metadata": {},
   "source": [
    "Unhide Genome"
   ]
  },
  {
   "cell_type": "code",
   "execution_count": null,
   "metadata": {},
   "outputs": [
    {
     "data": {
      "text/plain": [
       "CompletedProcess(args='mv raw_data/dmel/genome/dm6.fa raw_data/dmel/genome/dm6.fa', returncode=0)"
      ]
     },
     "execution_count": 25,
     "metadata": {},
     "output_type": "execute_result"
    }
   ],
   "source": [
    "# Unhide genome file \n",
    "output_path = \"raw_data/dmel/genome/dm6.fa\"\n",
    "command = f\"chflags nohidden {output_path} {output_path}\" \n",
    "subprocess.run(command, shell=True)"
   ]
  },
  {
   "cell_type": "markdown",
   "metadata": {},
   "source": [
    "Download Transcriptome"
   ]
  },
  {
   "cell_type": "code",
   "execution_count": 17,
   "metadata": {},
   "outputs": [
    {
     "name": "stdout",
     "output_type": "stream",
     "text": [
      "dm6.ncbiRefSeq.gtf.gz\n",
      "     5133989 100%    6.87MB/s    0:00:00 (xfer#1, to-check=0/1)\n",
      "\n",
      "sent 38 bytes  received 5135347 bytes  3423590.00 bytes/sec\n",
      "total size is 5133989  speedup is 1.00\n"
     ]
    },
    {
     "data": {
      "text/plain": [
       "CompletedProcess(args='rsync --partial --progress rsync://hgdownload.soe.ucsc.edu/goldenPath/dm6/bigZips/genes/dm6.ncbiRefSeq.gtf.gz raw_data/dmel/transcriptome/dm6.ncbiRefSeq.gtf.gz', returncode=0)"
      ]
     },
     "execution_count": 17,
     "metadata": {},
     "output_type": "execute_result"
    }
   ],
   "source": [
    "output_dir = \"raw_data/dmel/transcriptome\"\n",
    "if not os.path.exists(output_dir):\n",
    "    os.makedirs(output_dir)\n",
    "\n",
    "# Download the transcriptome \n",
    "rsync_path = \"rsync://hgdownload.soe.ucsc.edu/goldenPath/dm6/bigZips/genes/dm6.ncbiRefSeq.gtf.gz\"\n",
    "output_path = os.path.join(output_dir, \"dm6.ncbiRefSeq.gtf.gz\")\n",
    "command = f\"rsync --partial --progress {rsync_path} {output_path}\"\n",
    "subprocess.run(command, shell=True)"
   ]
  },
  {
   "cell_type": "markdown",
   "metadata": {},
   "source": [
    "Unzip Transcriptome"
   ]
  },
  {
   "cell_type": "code",
   "execution_count": 18,
   "metadata": {},
   "outputs": [
    {
     "name": "stderr",
     "output_type": "stream",
     "text": [
      "gunzip: raw_data/dmel/transcriptome/dm6.ncbiRefSeq.gtf already exists -- skipping\n"
     ]
    },
    {
     "data": {
      "text/plain": [
       "CompletedProcess(args='gunzip raw_data/dmel/transcriptome/dm6.ncbiRefSeq.gtf.gz', returncode=1)"
      ]
     },
     "execution_count": 18,
     "metadata": {},
     "output_type": "execute_result"
    }
   ],
   "source": [
    "# Unzip the transcriptome \n",
    "output_path = \"raw_data/dmel/transcriptome/dm6.ncbiRefSeq.gtf.gz\"\n",
    "command = f\"gunzip {output_path}\"\n",
    "subprocess.run(command, shell=True)"
   ]
  },
  {
   "cell_type": "markdown",
   "metadata": {},
   "source": [
    "Unhide Transcriptome"
   ]
  },
  {
   "cell_type": "code",
   "execution_count": 30,
   "metadata": {},
   "outputs": [
    {
     "data": {
      "text/plain": [
       "CompletedProcess(args='chflags nohidden raw_data/dmel/transcriptome/dm6.ncbiRefSeq.gtf', returncode=0)"
      ]
     },
     "execution_count": 30,
     "metadata": {},
     "output_type": "execute_result"
    }
   ],
   "source": [
    "# Unhide transcriptome file\n",
    "output_path = \"raw_data/dmel/transcriptome/dm6.ncbiRefSeq.gtf\"\n",
    "command = f\"chflags nohidden {output_path}\"\n",
    "subprocess.run(command, shell=True)"
   ]
  },
  {
   "cell_type": "markdown",
   "metadata": {},
   "source": [
    "Build transcriptome object "
   ]
  },
  {
   "cell_type": "code",
   "execution_count": 19,
   "metadata": {},
   "outputs": [
    {
     "name": "stdout",
     "output_type": "stream",
     "text": [
      "Found 17868 unique genes.\n"
     ]
    },
    {
     "name": "stderr",
     "output_type": "stream",
     "text": [
      "100%|██████████| 17868/17868 [00:24<00:00, 724.53it/s] \n"
     ]
    },
    {
     "name": "stdout",
     "output_type": "stream",
     "text": [
      "Transcriptome(genes=17868)\n",
      "Transcriptome object has been updated and saved to mel_transcriptome.pkl\n"
     ]
    }
   ],
   "source": [
    "mel_genome_path = \"raw_data/dmel/genome/dm6.fa\"\n",
    "mel_transcriptome_path = \"raw_data/dmel/transcriptome/dm6.ncbiRefSeq.gtf\"\n",
    "mel_object_name = \"mel_transcriptome\"\n",
    "update_transcriptome_object(mel_genome_path, mel_transcriptome_path, mel_object_name)"
   ]
  },
  {
   "cell_type": "code",
   "execution_count": 20,
   "metadata": {},
   "outputs": [],
   "source": [
    "tr = load_transcriptome_object(mel_object_name)"
   ]
  },
  {
   "cell_type": "code",
   "execution_count": 21,
   "metadata": {},
   "outputs": [],
   "source": [
    "check_exons_contain_all_features(tr)"
   ]
  },
  {
   "cell_type": "markdown",
   "metadata": {},
   "source": [
    "Export mRNA to Fasta file"
   ]
  },
  {
   "cell_type": "code",
   "execution_count": 35,
   "metadata": {},
   "outputs": [],
   "source": [
    "output_dir = \"raw_data/dmel/transcriptome/mRNA_no_introns\"\n",
    "if not os.path.exists(output_dir):\n",
    "    os.makedirs(output_dir)\n",
    "\n",
    "output_path = os.path.join(output_dir, \"mRNA_no_introns.fasta\")\n",
    "\n",
    "with open(output_path, \"w\") as output_file:\n",
    "    for gene_name in tr.genes.keys():\n",
    "        gene = tr.genes[gene_name]\n",
    "        for transcript in gene.transcripts:\n",
    "            output_file.write(f\">{transcript.name} gene={gene.name} location={transcript.chromosome}:{transcript.position[0]}-{transcript.position[1]} strand={transcript.strand} \\n{transcript.mrna_sequence} \\n\")\n"
   ]
  },
  {
   "cell_type": "markdown",
   "metadata": {},
   "source": [
    "Export mRNA (introns included) to Fasta file"
   ]
  },
  {
   "cell_type": "code",
   "execution_count": 36,
   "metadata": {},
   "outputs": [],
   "source": [
    "output_dir = \"raw_data/dmel/transcriptome/mRNA_yes_introns\"\n",
    "if not os.path.exists(output_dir):\n",
    "    os.makedirs(output_dir)\n",
    "\n",
    "output_path = os.path.join(output_dir, \"mRNA_yes_introns.fasta\")\n",
    "\n",
    "with open(output_path, \"w\") as output_file:\n",
    "    for gene_name in tr.genes.keys():\n",
    "        gene = tr.genes[gene_name]\n",
    "        for transcript in gene.transcripts:\n",
    "            output_file.write(f\">{transcript.name} gene={gene.name} location={transcript.chromosome}:{transcript.position[0]}-{transcript.position[1]} strand={transcript.strand} \\n{transcript.dna_sequence} \\n\")\n"
   ]
  },
  {
   "cell_type": "markdown",
   "metadata": {},
   "source": [
    "Create Blast Databases"
   ]
  },
  {
   "cell_type": "code",
   "execution_count": 37,
   "metadata": {},
   "outputs": [
    {
     "name": "stdout",
     "output_type": "stream",
     "text": [
      "makeblastdb: 2.15.0+\n",
      " Package: blast 2.15.0, build Oct 19 2023 15:16:13\n"
     ]
    }
   ],
   "source": [
    "# Check that makeblastdb is installed\n",
    "!makeblastdb -version"
   ]
  },
  {
   "cell_type": "code",
   "execution_count": 38,
   "metadata": {},
   "outputs": [
    {
     "name": "stdout",
     "output_type": "stream",
     "text": [
      "\n",
      "\n",
      "Building a new DB, current time: 11/11/2024 12:12:02\n",
      "New DB name:   /Users/giacomo.glotzer/Desktop/Drosophila-HCR/raw_data/dmel/transcriptome/mRNA_no_introns/mRNA_no_introns\n",
      "New DB title:  raw_data/dmel/transcriptome/mRNA_no_introns/mRNA_no_introns.fasta\n",
      "Sequence type: Nucleotide\n",
      "Deleted existing Nucleotide BLAST database named /Users/giacomo.glotzer/Desktop/Drosophila-HCR/raw_data/dmel/transcriptome/mRNA_no_introns/mRNA_no_introns\n",
      "Keep MBits: T\n",
      "Maximum file size: 3000000000B\n",
      "Adding sequences from FASTA; added 35121 sequences in 0.849447 seconds.\n",
      "\n",
      "\n"
     ]
    },
    {
     "data": {
      "text/plain": [
       "CompletedProcess(args='makeblastdb -in raw_data/dmel/transcriptome/mRNA_no_introns/mRNA_no_introns.fasta -dbtype nucl -parse_seqids -out raw_data/dmel/transcriptome/mRNA_no_introns/mRNA_no_introns', returncode=0)"
      ]
     },
     "execution_count": 38,
     "metadata": {},
     "output_type": "execute_result"
    }
   ],
   "source": [
    "input_path = \"raw_data/dmel/transcriptome/mRNA_no_introns/mRNA_no_introns.fasta\"\n",
    "output_path = \"raw_data/dmel/transcriptome/mRNA_no_introns/mRNA_no_introns\"\n",
    "command = f\"makeblastdb -in {input_path} -dbtype nucl -parse_seqids -out {output_path}\"\n",
    "subprocess.run(command, shell=True)"
   ]
  },
  {
   "cell_type": "code",
   "execution_count": 39,
   "metadata": {},
   "outputs": [
    {
     "name": "stdout",
     "output_type": "stream",
     "text": [
      "\n",
      "\n",
      "Building a new DB, current time: 11/11/2024 12:12:03\n",
      "New DB name:   /Users/giacomo.glotzer/Desktop/Drosophila-HCR/raw_data/dmel/transcriptome/mRNA_yes_introns/mRNA_yes_introns\n",
      "New DB title:  raw_data/dmel/transcriptome/mRNA_yes_introns/mRNA_yes_introns.fasta\n",
      "Sequence type: Nucleotide\n",
      "Deleted existing Nucleotide BLAST database named /Users/giacomo.glotzer/Desktop/Drosophila-HCR/raw_data/dmel/transcriptome/mRNA_yes_introns/mRNA_yes_introns\n",
      "Keep MBits: T\n",
      "Maximum file size: 3000000000B\n",
      "Adding sequences from FASTA; added 35121 sequences in 1.77955 seconds.\n",
      "\n",
      "\n"
     ]
    },
    {
     "data": {
      "text/plain": [
       "CompletedProcess(args='makeblastdb -in raw_data/dmel/transcriptome/mRNA_yes_introns/mRNA_yes_introns.fasta -dbtype nucl -parse_seqids -out raw_data/dmel/transcriptome/mRNA_yes_introns/mRNA_yes_introns', returncode=0)"
      ]
     },
     "execution_count": 39,
     "metadata": {},
     "output_type": "execute_result"
    }
   ],
   "source": [
    "input_path = \"raw_data/dmel/transcriptome/mRNA_yes_introns/mRNA_yes_introns.fasta\"\n",
    "output_path = \"raw_data/dmel/transcriptome/mRNA_yes_introns/mRNA_yes_introns\"\n",
    "command = f\"makeblastdb -in {input_path} -dbtype nucl -parse_seqids -out {output_path}\"\n",
    "subprocess.run(command, shell=True)"
   ]
  },
  {
   "cell_type": "markdown",
   "metadata": {},
   "source": [
    "# Drosophila Yakuba\n",
    "..."
   ]
  },
  {
   "cell_type": "code",
   "execution_count": null,
   "metadata": {},
   "outputs": [],
   "source": []
  }
 ],
 "metadata": {
  "kernelspec": {
   "display_name": "antman",
   "language": "python",
   "name": "python3"
  },
  "language_info": {
   "codemirror_mode": {
    "name": "ipython",
    "version": 3
   },
   "file_extension": ".py",
   "mimetype": "text/x-python",
   "name": "python",
   "nbconvert_exporter": "python",
   "pygments_lexer": "ipython3",
   "version": "3.12.2"
  }
 },
 "nbformat": 4,
 "nbformat_minor": 2
}
